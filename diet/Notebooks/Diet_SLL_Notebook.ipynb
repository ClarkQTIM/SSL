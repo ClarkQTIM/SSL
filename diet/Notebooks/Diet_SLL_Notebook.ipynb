{
 "cells": [
  {
   "cell_type": "markdown",
   "metadata": {},
   "source": [
    "# Setting up the Notebook"
   ]
  },
  {
   "cell_type": "code",
   "execution_count": 2,
   "metadata": {},
   "outputs": [
    {
     "name": "stdout",
     "output_type": "stream",
     "text": [
      "['/home/clachris/Documents/projects/Diet_SSL', '/usr/lib/python310.zip', '/usr/lib/python3.10', '/usr/lib/python3.10/lib-dynload', '', '/home/clachris/.local/lib/python3.10/site-packages', '/usr/local/lib/python3.10/dist-packages', '/usr/lib/python3/dist-packages', '/home/clachris/Documents/projects/DIET_SSL/py_files', '/home/clachris/Documents/projects/DIET_SSL/py_files']\n"
     ]
    }
   ],
   "source": [
    "import sys\n",
    "sys.path.append('/home/clachris/Documents/projects/DIET_SSL/py_files')\n",
    "print(sys.path)\n",
    "from py_files.models import *\n",
    "from py_files.dataset_organization import *\n",
    "from py_files.train_pretext import *\n",
    "from full_train_pretext import *"
   ]
  },
  {
   "cell_type": "markdown",
   "metadata": {},
   "source": [
    "# Setting up the data"
   ]
  },
  {
   "cell_type": "markdown",
   "metadata": {},
   "source": [
    "## Dysis Cervices"
   ]
  },
  {
   "cell_type": "code",
   "execution_count": 3,
   "metadata": {},
   "outputs": [
    {
     "name": "stdout",
     "output_type": "stream",
     "text": [
      "Confirming this looks like what we want: ['/home/clachris/Documents/datasets/cervix/Dysis_Cervix/JayashreeSample/lesion_set_1/00017/00017_img000.bmp', '/home/clachris/Documents/datasets/cervix/Dysis_Cervix/JayashreeSample/lesion_set_1/00017/00017_img007.bmp', '/home/clachris/Documents/datasets/cervix/Dysis_Cervix/JayashreeSample/lesion_set_1/00017/00017_img014.bmp', '/home/clachris/Documents/datasets/cervix/Dysis_Cervix/JayashreeSample/lesion_set_1/00017/00017_img021.bmp', '/home/clachris/Documents/datasets/cervix/Dysis_Cervix/JayashreeSample/lesion_set_1/00017/00017_img028.bmp', '/home/clachris/Documents/datasets/cervix/Dysis_Cervix/JayashreeSample/lesion_set_1/00017/00017_img035.bmp', '/home/clachris/Documents/datasets/cervix/Dysis_Cervix/JayashreeSample/lesion_set_1/00017/00017_img042.bmp', '/home/clachris/Documents/datasets/cervix/Dysis_Cervix/JayashreeSample/lesion_set_1/00017/00017_img049.bmp', '/home/clachris/Documents/datasets/cervix/Dysis_Cervix/JayashreeSample/lesion_set_1/00017/00017_img056.bmp', '/home/clachris/Documents/datasets/cervix/Dysis_Cervix/JayashreeSample/lesion_set_1/00017/00017_img063.bmp', '/home/clachris/Documents/datasets/cervix/Dysis_Cervix/JayashreeSample/lesion_set_1/00017/00017_img070.bmp', '/home/clachris/Documents/datasets/cervix/Dysis_Cervix/JayashreeSample/lesion_set_1/00017/00017_img077.bmp', '/home/clachris/Documents/datasets/cervix/Dysis_Cervix/JayashreeSample/lesion_set_1/00017/00017_img084.bmp', '/home/clachris/Documents/datasets/cervix/Dysis_Cervix/JayashreeSample/lesion_set_1/00017/00017_img094.bmp', '/home/clachris/Documents/datasets/cervix/Dysis_Cervix/JayashreeSample/lesion_set_1/00017/00017_img104.bmp', '/home/clachris/Documents/datasets/cervix/Dysis_Cervix/JayashreeSample/lesion_set_1/00017/00017_img114.bmp', '/home/clachris/Documents/datasets/cervix/Dysis_Cervix/JayashreeSample/lesion_set_1/00017/00017_img124.bmp', '/home/clachris/Documents/datasets/cervix/Dysis_Cervix/JayashreeSample/lesion_set_1/00045/00045_img000.bmp', '/home/clachris/Documents/datasets/cervix/Dysis_Cervix/JayashreeSample/lesion_set_1/00045/00045_img007.bmp', '/home/clachris/Documents/datasets/cervix/Dysis_Cervix/JayashreeSample/lesion_set_1/00045/00045_img014.bmp']\n"
     ]
    }
   ],
   "source": [
    "# Reading in and checking the Dysis image paths\n",
    "\n",
    "dysis_df = pd.read_csv('Dysis_Cervix/dysis_cervix_images_paths.csv')\n",
    "dysis_df = dysis_df.drop('Unnamed: 0', axis = 1)\n",
    "dysis_df.head()\n",
    "\n",
    "dysis_df = dysis_df.stack(-1)\n",
    "dysis_list = list(dysis_df)\n",
    "print('Confirming this looks like what we want:', dysis_list[:20])\n"
   ]
  },
  {
   "cell_type": "code",
   "execution_count": 20,
   "metadata": {},
   "outputs": [
    {
     "name": "stdout",
     "output_type": "stream",
     "text": [
      "Lengths of our X and Y (199, 199)\n"
     ]
    },
    {
     "data": {
      "text/plain": [
       "['IRIS_Cervix/IRIS_Resized/GYFZ-00000017.png',\n",
       " 'IRIS_Cervix/IRIS_Resized/GYFZ-00000033.png',\n",
       " 'IRIS_Cervix/IRIS_Resized/GYFZ-00000055.png',\n",
       " 'IRIS_Cervix/IRIS_Resized/GYFZ-00000056.png',\n",
       " 'IRIS_Cervix/IRIS_Resized/GYFZ-00000083.png',\n",
       " 'IRIS_Cervix/IRIS_Resized/GYFZ-00000084.png',\n",
       " 'IRIS_Cervix/IRIS_Resized/GYFZ-00000095.png',\n",
       " 'IRIS_Cervix/IRIS_Resized/GYFZ-00000156.png',\n",
       " 'IRIS_Cervix/IRIS_Resized/GYFZ-00000264.png',\n",
       " 'IRIS_Cervix/IRIS_Resized/GYFZ-00000268.png',\n",
       " 'IRIS_Cervix/IRIS_Resized/GYFZ-00000269.png',\n",
       " 'IRIS_Cervix/IRIS_Resized/GYFZ-00000307.png',\n",
       " 'IRIS_Cervix/IRIS_Resized/GYFZ-00000325.png',\n",
       " 'IRIS_Cervix/IRIS_Resized/GYFZ-00000352.png',\n",
       " 'IRIS_Cervix/IRIS_Resized/GYFZ-00000361.png',\n",
       " 'IRIS_Cervix/IRIS_Resized/GYFZ-00000362.png',\n",
       " 'IRIS_Cervix/IRIS_Resized/GYFZ-00000363.png',\n",
       " 'IRIS_Cervix/IRIS_Resized/GYFZ-00000402.png',\n",
       " 'IRIS_Cervix/IRIS_Resized/GYFZ-00000432.png',\n",
       " 'IRIS_Cervix/IRIS_Resized/GYFZ-00000433.png',\n",
       " 'IRIS_Cervix/IRIS_Resized/GYFZ-00000476.png',\n",
       " 'IRIS_Cervix/IRIS_Resized/GYFZ-00000477.png',\n",
       " 'IRIS_Cervix/IRIS_Resized/GYFZ-00000495.png',\n",
       " 'IRIS_Cervix/IRIS_Resized/GYFZ-00000496.png',\n",
       " 'IRIS_Cervix/IRIS_Resized/GYFZ-00000502.png',\n",
       " 'IRIS_Cervix/IRIS_Resized/GYFZ-00000562.png',\n",
       " 'IRIS_Cervix/IRIS_Resized/GYFZ-00000589.png',\n",
       " 'IRIS_Cervix/IRIS_Resized/GYFZ-00000600.png',\n",
       " 'IRIS_Cervix/IRIS_Resized/GYFZ-00000642.png',\n",
       " 'IRIS_Cervix/IRIS_Resized/GYFZ-00000659.png',\n",
       " 'IRIS_Cervix/IRIS_Resized/GYFZ-00000685.png',\n",
       " 'IRIS_Cervix/IRIS_Resized/GYFZ-00000686.png',\n",
       " 'IRIS_Cervix/IRIS_Resized/GYFZ-00000796.png',\n",
       " 'IRIS_Cervix/IRIS_Resized/GYFZ-00000797.png',\n",
       " 'IRIS_Cervix/IRIS_Resized/GYFZ-00000798.png',\n",
       " 'IRIS_Cervix/IRIS_Resized/GYFZ-00000817.png',\n",
       " 'IRIS_Cervix/IRIS_Resized/GYFZ-00000818.png',\n",
       " 'IRIS_Cervix/IRIS_Resized/GYFZ-00000819.png',\n",
       " 'IRIS_Cervix/IRIS_Resized/GYFZ-00000820.png',\n",
       " 'IRIS_Cervix/IRIS_Resized/GYFZ-00000864.png',\n",
       " 'IRIS_Cervix/IRIS_Resized/GYFZ-00000865.png',\n",
       " 'IRIS_Cervix/IRIS_Resized/GYFZ-00000866.png',\n",
       " 'IRIS_Cervix/IRIS_Resized/GYFZ-00000867.png',\n",
       " 'IRIS_Cervix/IRIS_Resized/GYFZ-00000913.png',\n",
       " 'IRIS_Cervix/IRIS_Resized/GYFZ-00000961.png',\n",
       " 'IRIS_Cervix/IRIS_Resized/GYFZ-00000965.png',\n",
       " 'IRIS_Cervix/IRIS_Resized/GYFZ-00000986.png',\n",
       " 'IRIS_Cervix/IRIS_Resized/GYFZ-00001193.png',\n",
       " 'IRIS_Cervix/IRIS_Resized/GYFZ-00001194.png',\n",
       " 'IRIS_Cervix/IRIS_Resized/GYFZ-00001257.png',\n",
       " 'IRIS_Cervix/IRIS_Resized/GYFZ-00001300.png',\n",
       " 'IRIS_Cervix/IRIS_Resized/GYFZ-00001301.png',\n",
       " 'IRIS_Cervix/IRIS_Resized/GYFZ-00001361.png',\n",
       " 'IRIS_Cervix/IRIS_Resized/GYFZ-00001362.png',\n",
       " 'IRIS_Cervix/IRIS_Resized/GYFZ-00001378.png',\n",
       " 'IRIS_Cervix/IRIS_Resized/GYFZ-00001391.png',\n",
       " 'IRIS_Cervix/IRIS_Resized/GYFZ-00001442.png',\n",
       " 'IRIS_Cervix/IRIS_Resized/GYFZ-00001528.png',\n",
       " 'IRIS_Cervix/IRIS_Resized/GYFZ-00001607.png',\n",
       " 'IRIS_Cervix/IRIS_Resized/GYFZ-00001617.png',\n",
       " 'IRIS_Cervix/IRIS_Resized/GYFZ-00001633.png',\n",
       " 'IRIS_Cervix/IRIS_Resized/GYFZ-00001672.png',\n",
       " 'IRIS_Cervix/IRIS_Resized/GYFZ-00001676.png',\n",
       " 'IRIS_Cervix/IRIS_Resized/GYFZ-00001747.png',\n",
       " 'IRIS_Cervix/IRIS_Resized/GYFZ-00001751.png',\n",
       " 'IRIS_Cervix/IRIS_Resized/GYFZ-00001752.png',\n",
       " 'IRIS_Cervix/IRIS_Resized/GYFZ-00001776.png',\n",
       " 'IRIS_Cervix/IRIS_Resized/GYFZ-00001799.png',\n",
       " 'IRIS_Cervix/IRIS_Resized/GYFZ-00001808.png',\n",
       " 'IRIS_Cervix/IRIS_Resized/GYFZ-00001809.png',\n",
       " 'IRIS_Cervix/IRIS_Resized/GYFZ-00001904.png',\n",
       " 'IRIS_Cervix/IRIS_Resized/GYFZ-00001936.png',\n",
       " 'IRIS_Cervix/IRIS_Resized/GYFZ-00001969.png',\n",
       " 'IRIS_Cervix/IRIS_Resized/GYFZ-00001970.png',\n",
       " 'IRIS_Cervix/IRIS_Resized/GYFZ-00001995.png',\n",
       " 'IRIS_Cervix/IRIS_Resized/GYFZ-00001996.png',\n",
       " 'IRIS_Cervix/IRIS_Resized/GYFZ-00002035.png',\n",
       " 'IRIS_Cervix/IRIS_Resized/GYFZ-00002064.png',\n",
       " 'IRIS_Cervix/IRIS_Resized/GYFZ-00002084.png',\n",
       " 'IRIS_Cervix/IRIS_Resized/GYFZ-00002182.png',\n",
       " 'IRIS_Cervix/IRIS_Resized/GYFZ-00002193.png',\n",
       " 'IRIS_Cervix/IRIS_Resized/GYFZ-00002300.png',\n",
       " 'IRIS_Cervix/IRIS_Resized/GYFZ-00002364.png',\n",
       " 'IRIS_Cervix/IRIS_Resized/GYFZ-00002371.png',\n",
       " 'IRIS_Cervix/IRIS_Resized/GYFZ-00002408.png',\n",
       " 'IRIS_Cervix/IRIS_Resized/GYFZ-00002585.png',\n",
       " 'IRIS_Cervix/IRIS_Resized/GYFZ-00002595.png',\n",
       " 'IRIS_Cervix/IRIS_Resized/GYFZ-00002596.png',\n",
       " 'IRIS_Cervix/IRIS_Resized/GYFZ-00002604.png',\n",
       " 'IRIS_Cervix/IRIS_Resized/GYFZ-00002605.png',\n",
       " 'IRIS_Cervix/IRIS_Resized/GYFZ-00002730.png',\n",
       " 'IRIS_Cervix/IRIS_Resized/GYFZ-00002756.png',\n",
       " 'IRIS_Cervix/IRIS_Resized/GYFZ-00002828.png',\n",
       " 'IRIS_Cervix/IRIS_Resized/GYFZ-00002840.png',\n",
       " 'IRIS_Cervix/IRIS_Resized/GYFZ-00002861.png',\n",
       " 'IRIS_Cervix/IRIS_Resized/GYFZ-00002892.png',\n",
       " 'IRIS_Cervix/IRIS_Resized/GYFZ-00002926.png',\n",
       " 'IRIS_Cervix/IRIS_Resized/GYFZ-00003041.png',\n",
       " 'IRIS_Cervix/IRIS_Resized/GYFZ-00003086.png',\n",
       " 'IRIS_Cervix/IRIS_Resized/GYFZ-00003107.png',\n",
       " 'IRIS_Cervix/IRIS_Resized/GYFZ-00003166.png',\n",
       " 'IRIS_Cervix/IRIS_Resized/GYFZ-00003194.png',\n",
       " 'IRIS_Cervix/IRIS_Resized/GYFZ-00003204.png',\n",
       " 'IRIS_Cervix/IRIS_Resized/GYFZ-00003218.png',\n",
       " 'IRIS_Cervix/IRIS_Resized/GYFZ-00003281.png',\n",
       " 'IRIS_Cervix/IRIS_Resized/GYFZ-00003311.png',\n",
       " 'IRIS_Cervix/IRIS_Resized/GYFZ-00003385.png',\n",
       " 'IRIS_Cervix/IRIS_Resized/GYFZ-00003434.png',\n",
       " 'IRIS_Cervix/IRIS_Resized/GYFZ-00003467.png',\n",
       " 'IRIS_Cervix/IRIS_Resized/GYFZ-00003550.png',\n",
       " 'IRIS_Cervix/IRIS_Resized/GYFZ-00003568.png',\n",
       " 'IRIS_Cervix/IRIS_Resized/GYFZ-00003637.png',\n",
       " 'IRIS_Cervix/IRIS_Resized/GYFZ-00003719.png',\n",
       " 'IRIS_Cervix/IRIS_Resized/GYFZ-00003731.png',\n",
       " 'IRIS_Cervix/IRIS_Resized/GYFZ-00003828.png',\n",
       " 'IRIS_Cervix/IRIS_Resized/GYFZ-00003871.png',\n",
       " 'IRIS_Cervix/IRIS_Resized/GYFZ-00003888.png',\n",
       " 'IRIS_Cervix/IRIS_Resized/GYFZ-00003904.png',\n",
       " 'IRIS_Cervix/IRIS_Resized/GYFZ-00003915.png',\n",
       " 'IRIS_Cervix/IRIS_Resized/GYFZ-00004077.png',\n",
       " 'IRIS_Cervix/IRIS_Resized/GYFZ-00004125.png',\n",
       " 'IRIS_Cervix/IRIS_Resized/GYFZ-00004246.png',\n",
       " 'IRIS_Cervix/IRIS_Resized/GYFZ-00004259.png',\n",
       " 'IRIS_Cervix/IRIS_Resized/GYFZ-00004269.png',\n",
       " 'IRIS_Cervix/IRIS_Resized/GYFZ-00004270.png',\n",
       " 'IRIS_Cervix/IRIS_Resized/GYFZ-00004304.png',\n",
       " 'IRIS_Cervix/IRIS_Resized/GYFZ-00004306.png',\n",
       " 'IRIS_Cervix/IRIS_Resized/GYFZ-00004317.png',\n",
       " 'IRIS_Cervix/IRIS_Resized/GYFZ-00004318.png',\n",
       " 'IRIS_Cervix/IRIS_Resized/GYFZ-00004342.png',\n",
       " 'IRIS_Cervix/IRIS_Resized/GYFZ-00004471.png',\n",
       " 'IRIS_Cervix/IRIS_Resized/GYFZ-00004517.png',\n",
       " 'IRIS_Cervix/IRIS_Resized/GYFZ-00004553.png',\n",
       " 'IRIS_Cervix/IRIS_Resized/GYFZ-00004620.png',\n",
       " 'IRIS_Cervix/IRIS_Resized/GYFZ-00004621.png',\n",
       " 'IRIS_Cervix/IRIS_Resized/GYFZ-00004631.png',\n",
       " 'IRIS_Cervix/IRIS_Resized/GYFZ-00004654.png',\n",
       " 'IRIS_Cervix/IRIS_Resized/GYFZ-00004661.png',\n",
       " 'IRIS_Cervix/IRIS_Resized/GYFZ-00004689.png',\n",
       " 'IRIS_Cervix/IRIS_Resized/GYFZ-00004713.png',\n",
       " 'IRIS_Cervix/IRIS_Resized/GYFZ-00004744.png',\n",
       " 'IRIS_Cervix/IRIS_Resized/GYFZ-00004745.png',\n",
       " 'IRIS_Cervix/IRIS_Resized/GYFZ-00004794.png',\n",
       " 'IRIS_Cervix/IRIS_Resized/GYFZ-00004822.png',\n",
       " 'IRIS_Cervix/IRIS_Resized/GYFZ-00005000.png',\n",
       " 'IRIS_Cervix/IRIS_Resized/GYFZ-00005038.png',\n",
       " 'IRIS_Cervix/IRIS_Resized/GYFZ-00005042.png',\n",
       " 'IRIS_Cervix/IRIS_Resized/GYFZ-00005120.png',\n",
       " 'IRIS_Cervix/IRIS_Resized/GYFZ-00005135.png',\n",
       " 'IRIS_Cervix/IRIS_Resized/GYFZ-00005156.png',\n",
       " 'IRIS_Cervix/IRIS_Resized/GYFZ-00005191.png',\n",
       " 'IRIS_Cervix/IRIS_Resized/GYFZ-00005193.png',\n",
       " 'IRIS_Cervix/IRIS_Resized/GYFZ-00005234.png',\n",
       " 'IRIS_Cervix/IRIS_Resized/GYFZ-00005295.png',\n",
       " 'IRIS_Cervix/IRIS_Resized/GYFZ-00005311.png',\n",
       " 'IRIS_Cervix/IRIS_Resized/GYFZ-00005385.png',\n",
       " 'IRIS_Cervix/IRIS_Resized/GYFZ-00005386.png',\n",
       " 'IRIS_Cervix/IRIS_Resized/GYFZ-00005419.png',\n",
       " 'IRIS_Cervix/IRIS_Resized/GYFZ-00005502.png',\n",
       " 'IRIS_Cervix/IRIS_Resized/GYFZ-00005535.png',\n",
       " 'IRIS_Cervix/IRIS_Resized/GYFZ-00005559.png',\n",
       " 'IRIS_Cervix/IRIS_Resized/GYFZ-00005570.png',\n",
       " 'IRIS_Cervix/IRIS_Resized/GYFZ-00005621.png',\n",
       " 'IRIS_Cervix/IRIS_Resized/GYFZ-00005628.png',\n",
       " 'IRIS_Cervix/IRIS_Resized/GYFZ-00005637.png',\n",
       " 'IRIS_Cervix/IRIS_Resized/GYFZ-00005645.png',\n",
       " 'IRIS_Cervix/IRIS_Resized/GYFZ-00005653.png',\n",
       " 'IRIS_Cervix/IRIS_Resized/GYFZ-00005707.png',\n",
       " 'IRIS_Cervix/IRIS_Resized/GYFZ-00005726.png',\n",
       " 'IRIS_Cervix/IRIS_Resized/GYFZ-00005752.png',\n",
       " 'IRIS_Cervix/IRIS_Resized/GYFZ-00005888.png',\n",
       " 'IRIS_Cervix/IRIS_Resized/GYFZ-00005913.png',\n",
       " 'IRIS_Cervix/IRIS_Resized/GYFZ-00005914.png',\n",
       " 'IRIS_Cervix/IRIS_Resized/GYFZ-00005938.png',\n",
       " 'IRIS_Cervix/IRIS_Resized/GYFZ-00005966.png',\n",
       " 'IRIS_Cervix/IRIS_Resized/GYFZ-00005988.png',\n",
       " 'IRIS_Cervix/IRIS_Resized/GYFZ-00005989.png',\n",
       " 'IRIS_Cervix/IRIS_Resized/GYFZ-00006079.png',\n",
       " 'IRIS_Cervix/IRIS_Resized/GYFZ-00006081.png',\n",
       " 'IRIS_Cervix/IRIS_Resized/GYFZ-00006097.png',\n",
       " 'IRIS_Cervix/IRIS_Resized/GYFZ-00006159.png',\n",
       " 'IRIS_Cervix/IRIS_Resized/GYFZ-00006181.png',\n",
       " 'IRIS_Cervix/IRIS_Resized/GYFZ-00006239.png',\n",
       " 'IRIS_Cervix/IRIS_Resized/GYFZ-00006263.png',\n",
       " 'IRIS_Cervix/IRIS_Resized/GYFZ-00006326.png',\n",
       " 'IRIS_Cervix/IRIS_Resized/GYFZ-00006354.png',\n",
       " 'IRIS_Cervix/IRIS_Resized/GYFZ-00006385.png',\n",
       " 'IRIS_Cervix/IRIS_Resized/GYFZ-00006402.png',\n",
       " 'IRIS_Cervix/IRIS_Resized/GYFZ-00006519.png',\n",
       " 'IRIS_Cervix/IRIS_Resized/GYFZ-00006547.png',\n",
       " 'IRIS_Cervix/IRIS_Resized/GYFZ-00006554.png',\n",
       " 'IRIS_Cervix/IRIS_Resized/GYFZ-00006666.png',\n",
       " 'IRIS_Cervix/IRIS_Resized/GYFZ-00006668.png',\n",
       " 'IRIS_Cervix/IRIS_Resized/GYFZ-00006805.png',\n",
       " 'IRIS_Cervix/IRIS_Resized/GYFZ-00006831.png',\n",
       " 'IRIS_Cervix/IRIS_Resized/GYFZ-00006878.png',\n",
       " 'IRIS_Cervix/IRIS_Resized/GYFZ-00006911.png',\n",
       " 'IRIS_Cervix/IRIS_Resized/GYFZ-00006937.png',\n",
       " 'IRIS_Cervix/IRIS_Resized/GYFZ-00007036.png']"
      ]
     },
     "execution_count": 20,
     "metadata": {},
     "output_type": "execute_result"
    }
   ],
   "source": [
    "# Getting the image paths of the resized images\n",
    "\n",
    "root_dir = 'IRIS_Cervix/IRIS_Resized/'\n",
    "\n",
    "X, Y = create_X_Y(root_dir, -1, True)"
   ]
  },
  {
   "attachments": {},
   "cell_type": "markdown",
   "metadata": {},
   "source": [
    "# Brief description of the problem and architecture"
   ]
  },
  {
   "attachments": {},
   "cell_type": "markdown",
   "metadata": {
    "vscode": {
     "languageId": "python"
    }
   },
   "source": [
    "In supervised learning, we are given a set of labels $Y$ to go along with data $X$. The idea is then to learn some function $\\hat{f}_{\\theta}$ such that:\n",
    "\n",
    "$$ \\hat{f}_{\\theta}: X \\rightarrow Y \\quad \\mathbf{x}_i \\rightarrow y_i $$\n",
    "\n",
    "However, we often don't have labels, or perhaps *enough* labels. Instead, we would like to train a model to understand salient features of the data so that fewer labels are sufficient, as we already understand the data well before even trying to classify.\n",
    "\n",
    "The *DIET*, meaning Datum IndEx as it Target, employs the datum index as it's target class. As in, given a datset of $N$ samples $\\{\\mathbf{x}_1, \\ldots, \\mathbf{x{}_N}\\}$, define the class of $\\mathbf{x}_n$ as simply $n$. This means the loss function is:\n",
    "\n",
    "$$ \\mathcal{L}_{DIET}(\\mathbf{x}_n) = \\mathcal{L}_{Classification}(W f_{\\theta}(\\mathbf{x}_n), n) $$\n",
    "\n",
    "Where $\\mathbf{x}_n \\in \\mathbb{R}^D$ is the datum, $f_{\\theta}: \\mathbb{R}^D \\rightarrow \\mathbb{R}^K$ is the neural network, $W \\in \\mathbb{R}^{K \\times N}$ is the classifier, and $\\mathcal{L}_{Classification}$ is the preferred classification loss. "
   ]
  },
  {
   "cell_type": "markdown",
   "metadata": {
    "vscode": {
     "languageId": "python"
    }
   },
   "source": [
    "# Building the network"
   ]
  },
  {
   "cell_type": "code",
   "execution_count": 6,
   "metadata": {},
   "outputs": [
    {
     "name": "stdout",
     "output_type": "stream",
     "text": [
      "cuda\n",
      "['sm_37', 'sm_50', 'sm_60', 'sm_70', 'sm_75', 'sm_80', 'sm_86']\n",
      "11.3\n"
     ]
    }
   ],
   "source": [
    "# Setting up the device\n",
    "\n",
    "# Device\n",
    "device = torch.device('cuda' if torch.cuda.is_available() else 'cpu')\n",
    "print(device)\n",
    "\n",
    "# GPU types supported\n",
    "print(torch.cuda.get_arch_list())\n",
    "\n",
    "# Cuda version\n",
    "print(torch.version.cuda)"
   ]
  },
  {
   "cell_type": "code",
   "execution_count": 7,
   "metadata": {},
   "outputs": [],
   "source": [
    "# Model Instantiation\n",
    "\n",
    "model = DIET_UNet(spatial_dims = 2,\n",
    "in_channels = 3,\n",
    "out_channels = 1,\n",
    "channels = (8, 16, 32, 64),\n",
    "strides = (2, 2, 2),\n",
    "norm = 'batch',\n",
    "dropout = 0,\n",
    "num_classes=len(Y))"
   ]
  },
  {
   "cell_type": "code",
   "execution_count": 16,
   "metadata": {},
   "outputs": [],
   "source": [
    "# Organizing the data\n",
    "\n",
    "train_X, train_Y, val_X, val_Y, test_X, test_Y = DataDivision(X, Y, 0.8, 0.2)"
   ]
  },
  {
   "cell_type": "code",
   "execution_count": 17,
   "metadata": {},
   "outputs": [],
   "source": [
    "# Datasets\n",
    "\n",
    "train_dataloader = Dataset_Dataloader(train_X, train_Y, 2)\n",
    "val_dataloader = Dataset_Dataloader(val_X, val_Y, 2)\n",
    "test_dataloader = Dataset_Dataloader(test_X, test_Y, 2)"
   ]
  },
  {
   "cell_type": "code",
   "execution_count": 18,
   "metadata": {},
   "outputs": [
    {
     "name": "stdout",
     "output_type": "stream",
     "text": [
      "The number of batches and the shapes of the first and second items in the dataloader batch are: 80 (2, 3, 512, 512) (2,)\n",
      "The number of batches and the shapes of the first and second items in the dataloader batch are: 10 (2, 3, 512, 512) (2,)\n",
      "The number of batches and the shapes of the first and second items in the dataloader batch are: 10 (2, 3, 512, 512) (2,)\n"
     ]
    }
   ],
   "source": [
    "# Confirming everything has the shape we need\n",
    "\n",
    "tr_c = conf(train_dataloader, True)\n",
    "val_c = conf(val_dataloader, True)\n",
    "te_c = conf(test_dataloader, True)"
   ]
  },
  {
   "cell_type": "markdown",
   "metadata": {},
   "source": [
    "# Training"
   ]
  },
  {
   "cell_type": "code",
   "execution_count": null,
   "metadata": {},
   "outputs": [],
   "source": [
    "# Training\n",
    "\n",
    "trainer = Train(model,\n",
    "                10,\n",
    "                train_dataloader, \n",
    "                val_dataloader, \n",
    "                1e-3, \n",
    "                'None',\n",
    "                'Dysis_Cervix/', \n",
    "                False,\n",
    "                False,\n",
    "                False)\n",
    "\n",
    "trainer.configure_devices('0')\n",
    "\n",
    "trainer.fit()"
   ]
  }
 ],
 "metadata": {
  "kernelspec": {
   "display_name": "Python 3 (ipykernel)",
   "language": "python",
   "name": "python3"
  },
  "language_info": {
   "codemirror_mode": {
    "name": "ipython",
    "version": 3
   },
   "file_extension": ".py",
   "mimetype": "text/x-python",
   "name": "python",
   "nbconvert_exporter": "python",
   "pygments_lexer": "ipython3",
   "version": "3.8.10"
  },
  "orig_nbformat": 4,
  "vscode": {
   "interpreter": {
    "hash": "916dbcbb3f70747c44a77c7bcd40155683ae19c65e1c03b4aa3499c5328201f1"
   }
  }
 },
 "nbformat": 4,
 "nbformat_minor": 2
}
