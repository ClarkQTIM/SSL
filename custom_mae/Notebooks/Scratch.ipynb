{
 "cells": [
  {
   "cell_type": "code",
   "execution_count": 1,
   "metadata": {},
   "outputs": [],
   "source": [
    "# Imports\n",
    "\n",
    "import os\n",
    "import pandas as pd\n",
    "import numpy as np"
   ]
  },
  {
   "cell_type": "code",
   "execution_count": 7,
   "metadata": {},
   "outputs": [],
   "source": [
    "dr_data_without_labels_path = '/sddata/data/retina_datasets/diabetic_retinopathy_detection/data_without_labels'\n",
    "\n",
    "def find_images(directory):\n",
    "    image_paths = []\n",
    "    for root, dirs, files in os.walk(directory):\n",
    "        for file in files:\n",
    "            if file.lower().endswith(('.png', '.jpg', '.jpeg', '.gif', '.bmp')):\n",
    "                image_paths.append(os.path.join(root, file))\n",
    "    return image_paths\n",
    "\n",
    "directory = \"/path/to/directory\"\n",
    "image_paths = find_images(dr_data_without_labels_path)\n",
    "image_paths[:5]\n",
    "\n",
    "dataset = ['train' for _ in range(len(image_paths))]\n",
    "df_dict = {'image':image_paths, 'label':dataset}\n",
    "df = pd.DataFrame(df_dict)\n",
    "df.to_csv('/sddata/projects/SSL/custom_mae/csvs/non_labeled_dr_images.csv')"
   ]
  },
  {
   "cell_type": "code",
   "execution_count": null,
   "metadata": {},
   "outputs": [],
   "source": []
  }
 ],
 "metadata": {
  "kernelspec": {
   "display_name": "Python 3",
   "language": "python",
   "name": "python3"
  },
  "language_info": {
   "codemirror_mode": {
    "name": "ipython",
    "version": 3
   },
   "file_extension": ".py",
   "mimetype": "text/x-python",
   "name": "python",
   "nbconvert_exporter": "python",
   "pygments_lexer": "ipython3",
   "version": "3.8.10"
  }
 },
 "nbformat": 4,
 "nbformat_minor": 2
}
